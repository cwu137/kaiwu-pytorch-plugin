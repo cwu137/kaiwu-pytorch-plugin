{
 "cells": [
  {
   "cell_type": "code",
   "execution_count": null,
   "id": "7f0e9dbb",
   "metadata": {},
   "outputs": [],
   "source": [
    "import torch\n",
    "import numpy as np\n",
    "import random\n",
    "\n",
    "seed = 43\n",
    "# PyTorch\n",
    "torch.manual_seed(seed)\n",
    "if torch.cuda.is_available():\n",
    "    torch.cuda.manual_seed(seed)       # 为当前GPU设置\n",
    "    torch.cuda.manual_seed_all(seed)   # 为所有GPU设置\n",
    "# Python\n",
    "random.seed(seed)\n",
    "# NumPy\n",
    "np.random.seed(seed)"
   ]
  },
  {
   "cell_type": "code",
   "execution_count": null,
   "id": "89bfdf9c-b6f5-41e8-8891-722220c7cb1a",
   "metadata": {},
   "outputs": [],
   "source": [
    "from rbm_digits import  RBMRunner\n",
    "import kaiwu as kw\n",
    "# 添加license相关信息\n",
    "# kw.license.init(user_id=\"2811048042168555\", sdk_code=\"v9sIkORHZRf9pdcesgPkC0Ea0yuG3z\")\n",
    "\n",
    "rbm = RBMRunner(n_components=100, learning_rate=8e-2, batch_size=200, \n",
    "                n_iter=30, random_state=0, verbose=True)\n",
    "X_train, X_test, y_train, y_test=rbm.load_data()"
   ]
  },
  {
   "cell_type": "code",
   "execution_count": null,
   "id": "5bc542bb-7b19-4175-a328-a3c4b31904af",
   "metadata": {},
   "outputs": [],
   "source": [
    "rbm.fit(X_train,y_train,X_test,y_test) \n"
   ]
  }
 ],
 "metadata": {
  "kernelspec": {
   "display_name": "py310",
   "language": "python",
   "name": "python3"
  },
  "language_info": {
   "codemirror_mode": {
    "name": "ipython",
    "version": 3
   },
   "file_extension": ".py",
   "mimetype": "text/x-python",
   "name": "python",
   "nbconvert_exporter": "python",
   "pygments_lexer": "ipython3",
   "version": "3.10.18"
  }
 },
 "nbformat": 4,
 "nbformat_minor": 5
}
